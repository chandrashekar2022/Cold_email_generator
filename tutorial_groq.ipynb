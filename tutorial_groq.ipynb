{
 "cells": [
  {
   "cell_type": "code",
   "execution_count": 5,
   "id": "df7c71b4-46f4-43b3-a52f-b14f93a3d262",
   "metadata": {},
   "outputs": [
    {
     "name": "stdout",
     "output_type": "stream",
     "text": [
      "The founder of Tata Consultancy Services (TCS) is J.R.D. Tata, along with F.C. Kohli and others. However, the person often credited as the founder of TCS is F.C. Kohli, who is also known as the 'Father of Indian IT Industry'.\n"
     ]
    }
   ],
   "source": [
    "from langchain_groq import ChatGroq\n",
    "\n",
    "llm = ChatGroq(\n",
    "    temperature=0,\n",
    "    groq_api_key='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',\n",
    "    model_name=\"llama-3.1-70b-versatile\"\n",
    ")\n",
    "\n",
    "response=llm.invoke(\"Who is the founder of Tata Consultancy Services...\")\n",
    "print(response.content)"
   ]
  },
  {
   "cell_type": "code",
   "execution_count": 15,
   "id": "c304716d-b0b6-4615-949b-8a5992bd66ff",
   "metadata": {},
   "outputs": [
    {
     "name": "stdout",
     "output_type": "stream",
     "text": [
      "AI/ML Engineer / Architect - K-Tek Resourcing LLC - San Leandro, CAHomeSearchJob Details OptionsShareReportAI/ML Engineer / ArchitectK-Tek Resourcing LLCSan Leandro, CAPosted 1 day ago |  Updated 1 day agoOverviewOn SiteDepends on ExperienceAccepts corp to corp applicationsContract - W2Contract - IndependentAble to Provide SponsorshipSkillsAI/MLJob DetailsKey Responsibilities:Design and architect a scalable, secure, and efficient internal assistant  solution using cutting-edge AI and natural language processing technologiesDevelop proof-of-concepts and prototypes to validate architectural decisionsLead the integration of the chatbot with internal systems, databases, and APIsCollaborate with cross-functional teams to gather requirements and ensure alignment with business objectivesImplement best practices for AI model deployment, monitoring, and continuous improvementProvide technical leadership and mentorship to the development teamStay up-to-date with the latest advancements in AI, GenAI, and LLMs, incorporating innovative features into the chatbot architectureRequired Qualifications:10+ years of experience in software development, with a focus on AI and machine learningProven experience architecting and implementing internal-facing AI chatbot solutions similar to Glean or RogoStrong hands-on experience with Python, LLMs, and Generative AI technologiesDeep understanding of natural language processing, sentiment analysis, and text generation techniquesExpertise in cloud platforms (AWS, Azure, or Google Cloud Platform) for AI model deployment and scalingExperience with MLOps practices and tools for model lifecycle managementStrong problem-solving skills and ability to translate complex business requirements into technical solutionsExcellent communication skills to explain technical concepts to both technical and non-technical stakeholders Employers have access to artificial intelligence language tools (“AI”) that help generate and enhance job descriptions and AI may have been used to create this description. The position description has been reviewed for accuracy and Dice believes it to correctly reflect the job opportunity.Report this jobDice Id: 10411276Position Id: 8440672About K-Tek Resourcing LLCSimilar JobsxSharexCopied!CopyTwitterFacebookLinkedInEmail\n"
     ]
    }
   ],
   "source": [
    "from langchain_community.document_loaders import WebBaseLoader\n",
    "\n",
    "loader = WebBaseLoader(\"https://www.dice.com/job-detail/33eb2e26-038d-4494-9926-dcbacd8b38ba?src=32&utm_source=appcast&utm_medium=aggregator&utm_campaign=linkedin-dice-paid&utm_term=K-Tek%20Resourcing%20LLC&utm_content=vp-linkedin-slots_most-recent&ccuid=57537563444&_ccid=1724697438697ibda0qnw7/\")\n",
    "page_data=loader.load().pop().page_content\n",
    "print(page_data)"
   ]
  },
  {
   "cell_type": "code",
   "execution_count": 19,
   "id": "90985d2e-b0be-484b-b7dd-8887894bff20",
   "metadata": {},
   "outputs": [
    {
     "name": "stdout",
     "output_type": "stream",
     "text": [
      "```json\n",
      "{\n",
      "  \"role\": \"AI/ML Engineer / Architect\",\n",
      "  \"experience\": \"10+ years\",\n",
      "  \"skills\": [\n",
      "    \"AI\",\n",
      "    \"Machine Learning\",\n",
      "    \"Python\",\n",
      "    \"LLMs\",\n",
      "    \"Generative AI\",\n",
      "    \"Natural Language Processing\",\n",
      "    \"Sentiment Analysis\",\n",
      "    \"Text Generation\",\n",
      "    \"Cloud Platforms (AWS, Azure, or Google Cloud Platform)\",\n",
      "    \"MLOps\"\n",
      "  ],\n",
      "  \"description\": \"Design and architect a scalable, secure, and efficient internal assistant solution using cutting-edge AI and natural language processing technologies. Develop proof-of-concepts and prototypes to validate architectural decisions. Lead the integration of the chatbot with internal systems, databases, and APIs. Collaborate with cross-functional teams to gather requirements and ensure alignment with business objectives. Implement best practices for AI model deployment, monitoring, and continuous improvement. Provide technical leadership and mentorship to the development team. Stay up-to-date with the latest advancements in AI, GenAI, and LLMs, incorporating innovative features into the chatbot architecture.\"\n",
      "}\n",
      "```\n"
     ]
    }
   ],
   "source": [
    "from langchain_core.prompts import PromptTemplate\n",
    "\n",
    "prompt_extract=PromptTemplate.from_template(\n",
    "    \"\"\"\n",
    "    ### SCRAPED TEXT FROM WEBSITE:\n",
    "    {page_data}\n",
    "    ### INSTRUCTION:\n",
    "    The scraped text is from the career's page of a website.\n",
    "    Your job is to extract the job postings and return them in JSON format containing \n",
    "    the following keys: 'role','experience','skills' and 'description'.\n",
    "    Only return the valid JSON.\n",
    "    ###VALID JSON(NO PREAMBLE):\n",
    "    \"\"\"\n",
    ")\n",
    "\n",
    "chain_extract = prompt_extract | llm\n",
    "res=chain_extract.invoke(input={'page_data':page_data})\n",
    "print(res.content)"
   ]
  },
  {
   "cell_type": "code",
   "execution_count": 21,
   "id": "3c75856b-d4a4-4dd2-be67-7d4731e1e18d",
   "metadata": {},
   "outputs": [
    {
     "data": {
      "text/plain": [
       "str"
      ]
     },
     "execution_count": 21,
     "metadata": {},
     "output_type": "execute_result"
    }
   ],
   "source": [
    "type(res.content)"
   ]
  },
  {
   "cell_type": "code",
   "execution_count": 23,
   "id": "b5044cbe-a504-4e5c-84c4-ff84812e6198",
   "metadata": {},
   "outputs": [
    {
     "data": {
      "text/plain": [
       "{'role': 'AI/ML Engineer / Architect',\n",
       " 'experience': '10+ years',\n",
       " 'skills': ['AI',\n",
       "  'Machine Learning',\n",
       "  'Python',\n",
       "  'LLMs',\n",
       "  'Generative AI',\n",
       "  'Natural Language Processing',\n",
       "  'Sentiment Analysis',\n",
       "  'Text Generation',\n",
       "  'Cloud Platforms (AWS, Azure, or Google Cloud Platform)',\n",
       "  'MLOps'],\n",
       " 'description': 'Design and architect a scalable, secure, and efficient internal assistant solution using cutting-edge AI and natural language processing technologies. Develop proof-of-concepts and prototypes to validate architectural decisions. Lead the integration of the chatbot with internal systems, databases, and APIs. Collaborate with cross-functional teams to gather requirements and ensure alignment with business objectives. Implement best practices for AI model deployment, monitoring, and continuous improvement. Provide technical leadership and mentorship to the development team. Stay up-to-date with the latest advancements in AI, GenAI, and LLMs, incorporating innovative features into the chatbot architecture.'}"
      ]
     },
     "execution_count": 23,
     "metadata": {},
     "output_type": "execute_result"
    }
   ],
   "source": [
    "from langchain_core.output_parsers import JsonOutputParser\n",
    "\n",
    "json_parser=JsonOutputParser()\n",
    "json_res=json_parser.parse(res.content)\n",
    "json_res"
   ]
  },
  {
   "cell_type": "code",
   "execution_count": 25,
   "id": "f6f5b217-cb38-4ecc-a574-37d11b36670f",
   "metadata": {},
   "outputs": [
    {
     "data": {
      "text/plain": [
       "dict"
      ]
     },
     "execution_count": 25,
     "metadata": {},
     "output_type": "execute_result"
    }
   ],
   "source": [
    "type(json_res)"
   ]
  },
  {
   "cell_type": "code",
   "execution_count": 31,
   "id": "8af35b59-6e4b-4f16-8427-0856f7fac817",
   "metadata": {},
   "outputs": [],
   "source": [
    "import pandas as pd\n",
    "\n",
    "df=pd.read_csv(\"my_portfolio.csv\")"
   ]
  },
  {
   "cell_type": "code",
   "execution_count": 33,
   "id": "7a886221-5ce3-4274-bdff-8e4bf472dc2c",
   "metadata": {},
   "outputs": [
    {
     "data": {
      "text/html": [
       "<div>\n",
       "<style scoped>\n",
       "    .dataframe tbody tr th:only-of-type {\n",
       "        vertical-align: middle;\n",
       "    }\n",
       "\n",
       "    .dataframe tbody tr th {\n",
       "        vertical-align: top;\n",
       "    }\n",
       "\n",
       "    .dataframe thead th {\n",
       "        text-align: right;\n",
       "    }\n",
       "</style>\n",
       "<table border=\"1\" class=\"dataframe\">\n",
       "  <thead>\n",
       "    <tr style=\"text-align: right;\">\n",
       "      <th></th>\n",
       "      <th>Link Description</th>\n",
       "      <th>Links</th>\n",
       "    </tr>\n",
       "  </thead>\n",
       "  <tbody>\n",
       "    <tr>\n",
       "      <th>0</th>\n",
       "      <td>My Linkedin</td>\n",
       "      <td>https://www.linkedin.com/in/chandrashekharkbf443/</td>\n",
       "    </tr>\n",
       "    <tr>\n",
       "      <th>1</th>\n",
       "      <td>My github</td>\n",
       "      <td>https://github.com/Chandrashekar1997</td>\n",
       "    </tr>\n",
       "    <tr>\n",
       "      <th>2</th>\n",
       "      <td>My Youtube tutorial</td>\n",
       "      <td>https://www.youtube.com/watch?v=iZwxOH9ZgYc&amp;ab...</td>\n",
       "    </tr>\n",
       "    <tr>\n",
       "      <th>3</th>\n",
       "      <td>MLFlow Project</td>\n",
       "      <td>https://github.com/Chandrashekar1997/Machine-L...</td>\n",
       "    </tr>\n",
       "    <tr>\n",
       "      <th>4</th>\n",
       "      <td>My Microsoft Certification</td>\n",
       "      <td>https://www.credly.com/badges/b9d5276c-5edf-4e...</td>\n",
       "    </tr>\n",
       "    <tr>\n",
       "      <th>5</th>\n",
       "      <td>Language Translation project</td>\n",
       "      <td>https://github.com/Chandrashekar1997/Language_...</td>\n",
       "    </tr>\n",
       "    <tr>\n",
       "      <th>6</th>\n",
       "      <td>Cold Email Generator Project</td>\n",
       "      <td>https://github.com/Chandrashekar1997/Cold_emai...</td>\n",
       "    </tr>\n",
       "  </tbody>\n",
       "</table>\n",
       "</div>"
      ],
      "text/plain": [
       "                Link Description  \\\n",
       "0                    My Linkedin   \n",
       "1                     My github    \n",
       "2            My Youtube tutorial   \n",
       "3                 MLFlow Project   \n",
       "4     My Microsoft Certification   \n",
       "5  Language Translation project    \n",
       "6  Cold Email Generator Project    \n",
       "\n",
       "                                               Links  \n",
       "0  https://www.linkedin.com/in/chandrashekharkbf443/  \n",
       "1               https://github.com/Chandrashekar1997  \n",
       "2  https://www.youtube.com/watch?v=iZwxOH9ZgYc&ab...  \n",
       "3  https://github.com/Chandrashekar1997/Machine-L...  \n",
       "4  https://www.credly.com/badges/b9d5276c-5edf-4e...  \n",
       "5  https://github.com/Chandrashekar1997/Language_...  \n",
       "6  https://github.com/Chandrashekar1997/Cold_emai...  "
      ]
     },
     "execution_count": 33,
     "metadata": {},
     "output_type": "execute_result"
    }
   ],
   "source": [
    "df"
   ]
  },
  {
   "cell_type": "code",
   "execution_count": 75,
   "id": "65936271-8489-42c0-b202-b1758a5f5f3b",
   "metadata": {},
   "outputs": [],
   "source": [
    "import chromadb\n",
    "import uuid\n",
    "\n",
    "client=chromadb.PersistentClient('vectorstore')\n",
    "collection=client.get_or_create_collection(name=\"portfolio\")\n",
    "\n",
    "if not collection.count():\n",
    "     for _,row in df.iterrows():\n",
    "         collection.add(document=row[\"Link Description\"],\n",
    "                        metadatas={\"links\": row[\"Links\"]},\n",
    "                        ids=[str(uuid.uuid4())])\n"
   ]
  },
  {
   "cell_type": "code",
   "execution_count": 77,
   "id": "056db794-7f2a-4458-b371-5f580f841108",
   "metadata": {},
   "outputs": [
    {
     "data": {
      "text/plain": [
       "[[{'links': 'https://github.com/Chandrashekar1997/Machine-Learing-Project-with-MLflow'}],\n",
       " [{'links': 'https://github.com/Chandrashekar1997/Machine-Learing-Project-with-MLflow'}],\n",
       " [{'links': 'https://github.com/Chandrashekar1997/Machine-Learing-Project-with-MLflow'}],\n",
       " [{'links': 'https://www.credly.com/badges/b9d5276c-5edf-4e5e-9731-d26cb9c1f88e/public_url'}],\n",
       " [{'links': 'https://github.com/Chandrashekar1997/Machine-Learing-Project-with-MLflow'}],\n",
       " [{'links': 'https://github.com/Chandrashekar1997/Language_Translation'}],\n",
       " [{'links': 'https://github.com/Chandrashekar1997/Language_Translation'}],\n",
       " [{'links': 'https://github.com/Chandrashekar1997/Cold_email_generator'}],\n",
       " [{'links': 'https://www.credly.com/badges/b9d5276c-5edf-4e5e-9731-d26cb9c1f88e/public_url'}],\n",
       " [{'links': 'https://github.com/Chandrashekar1997/Machine-Learing-Project-with-MLflow'}]]"
      ]
     },
     "execution_count": 77,
     "metadata": {},
     "output_type": "execute_result"
    }
   ],
   "source": [
    "links=collection.query(query_texts=job['skills'],n_results=1).get('metadatas',[])\n",
    "links"
   ]
  },
  {
   "cell_type": "code",
   "execution_count": 79,
   "id": "574e38b0-7c67-4b29-8285-cc8628a1b1ab",
   "metadata": {},
   "outputs": [
    {
     "data": {
      "text/plain": [
       "['AI',\n",
       " 'Machine Learning',\n",
       " 'Python',\n",
       " 'LLMs',\n",
       " 'Generative AI',\n",
       " 'Natural Language Processing',\n",
       " 'Sentiment Analysis',\n",
       " 'Text Generation',\n",
       " 'Cloud Platforms (AWS, Azure, or Google Cloud Platform)',\n",
       " 'MLOps']"
      ]
     },
     "execution_count": 79,
     "metadata": {},
     "output_type": "execute_result"
    }
   ],
   "source": [
    "job=json_res\n",
    "job['skills']"
   ]
  },
  {
   "cell_type": "code",
   "execution_count": 83,
   "id": "0a8504ea-18fd-43f0-9cd6-972e38615604",
   "metadata": {},
   "outputs": [
    {
     "name": "stdout",
     "output_type": "stream",
     "text": [
      "Subject: Expressed Interest in AI/ML Engineer / Architect Position\n",
      "\n",
      "Dear HR Team,\n",
      "\n",
      "I am writing to express my interest in the AI/ML Engineer / Architect position at your esteemed company. As an AI/ML Engineer with 5 years of experience in the field, I am confident that my background aligns well with the requirements of this role.\n",
      "\n",
      "With expertise in AI, Machine Learning, Python, LLMs, Generative AI, Natural Language Processing, Sentiment Analysis, Text Generation, Cloud Platforms (AWS, Azure, or Google Cloud Platform), and MLOps, I am well-equipped to design and architect a scalable, secure, and efficient internal assistant solution using cutting-edge AI and natural language processing technologies.\n",
      "\n",
      "I am particularly drawn to this company because of its commitment to innovation and excellence. I am enthusiastic about the possibility of contributing to this specific company and would appreciate any support you can offer in this process.\n",
      "\n",
      "I would like to share my portfolio with you, which showcases my skills and experience in the field. Please find the links to my projects and certifications below:\n",
      "\n",
      "- https://github.com/Chandrashekar1997/Machine-Learing-Project-with-MLflow\n",
      "- https://github.com/Chandrashekar1997/Machine-Learing-Project-with-MLflow\n",
      "- https://github.com/Chandrashekar1997/Machine-Learing-Project-with-MLflow\n",
      "- https://www.credly.com/badges/b9d5276c-5edf-4e5e-9731-d26cb9c1f88e/public_url\n",
      "- https://github.com/Chandrashekar1997/Machine-Learing-Project-with-MLflow\n",
      "- https://github.com/Chandrashekar1997/Language_Translation\n",
      "- https://github.com/Chandrashekar1997/Language_Translation\n",
      "- https://github.com/Chandrashekar1997/Cold_email_generator\n",
      "- https://www.credly.com/badges/b9d5276c-5edf-4e5e-9731-d26cb9c1f88e/public_url\n",
      "- https://github.com/Chandrashekar1997/Machine-Learing-Project-with-MLflow\n",
      "\n",
      "I would be grateful if you could consider referring me for this opportunity. I am confident that my skills and experience make me a strong fit for this role, and I am excited about the possibility of joining your team.\n",
      "\n",
      "Thank you for your time and consideration. I look forward to hearing from you soon.\n",
      "\n",
      "Best regards,\n",
      "\n",
      "Chandra Shekar\n",
      "AI/ML Engineer at Conduent\n"
     ]
    }
   ],
   "source": [
    "prompt_email=PromptTemplate.from_template(\n",
    "    \"\"\" \n",
    "    ### JOB DESCRIPTION:\n",
    "    {job_description}\n",
    "\n",
    "    ### INSTRUCTION:\n",
    "\n",
    "    You are Chandra Shekar, a AI/ML Engineer at Conduent.  Reach out to HR to express interest in the Job Position at this Company. \n",
    "    With 5 years of experience in this Field/Relevant Skills, express that I am confident that my background aligns well with the requirements.txt of this role.\n",
    "    if HR could consider referring me for this opportunity. \n",
    "    I'm enthusiastic about the possibility of contributing to this specific Company and would appreciate any support HR can offer in this process.\n",
    "    Your job is to write a cold email to the HR regarding the job mentioned above and asking for the referral for this position.\n",
    "    Also add all the links from the following links to showcase my Chandra shekar's portfolio:{link_list}\n",
    "    Remember you are Chandra Shekar, AI/ML Engineer at Conduent.\n",
    "    Do not provide a preamble.\n",
    "    ### EMAIL (NO PREAMBLE):\n",
    "\n",
    "    \"\"\"\n",
    ")\n",
    "\n",
    "chain_email = prompt_email | llm\n",
    "res = chain_email.invoke({\"job_description\": str(job), \"link_list\":links})\n",
    "print(res.content)\n",
    "\n",
    "\n",
    "    "
   ]
  },
  {
   "cell_type": "code",
   "execution_count": null,
   "id": "c6fad8f9-68ef-4cbb-89dc-af08c1d392d6",
   "metadata": {},
   "outputs": [],
   "source": []
  }
 ],
 "metadata": {
  "kernelspec": {
   "display_name": "Python 3 (ipykernel)",
   "language": "python",
   "name": "python3"
  },
  "language_info": {
   "codemirror_mode": {
    "name": "ipython",
    "version": 3
   },
   "file_extension": ".py",
   "mimetype": "text/x-python",
   "name": "python",
   "nbconvert_exporter": "python",
   "pygments_lexer": "ipython3",
   "version": "3.12.4"
  }
 },
 "nbformat": 4,
 "nbformat_minor": 5
}
